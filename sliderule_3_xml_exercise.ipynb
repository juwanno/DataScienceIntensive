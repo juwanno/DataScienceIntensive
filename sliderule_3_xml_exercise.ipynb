{
 "cells": [
  {
   "cell_type": "markdown",
   "metadata": {},
   "source": [
    "# XML example and exercise\n",
    "****\n",
    "+ study examples of accessing nodes in XML tree structure  \n",
    "+ work on exercise to be completed and submitted\n",
    "****\n",
    "+ reference: https://docs.python.org/2.7/library/xml.etree.elementtree.html\n",
    "+ data source: http://www.dbis.informatik.uni-goettingen.de/Mondial\n",
    "****"
   ]
  },
  {
   "cell_type": "code",
   "execution_count": 1,
   "metadata": {
    "collapsed": true
   },
   "outputs": [],
   "source": [
    "from xml.etree import ElementTree as ET"
   ]
  },
  {
   "cell_type": "markdown",
   "metadata": {},
   "source": [
    "## XML example\n",
    "\n",
    "+ for details about tree traversal and iterators, see https://docs.python.org/2.7/library/xml.etree.elementtree.html"
   ]
  },
  {
   "cell_type": "code",
   "execution_count": 2,
   "metadata": {
    "collapsed": false
   },
   "outputs": [],
   "source": [
    "document_tree = ET.parse( './data/mondial_database_less.xml' )"
   ]
  },
  {
   "cell_type": "code",
   "execution_count": 24,
   "metadata": {
    "collapsed": false
   },
   "outputs": [
    {
     "name": "stdout",
     "output_type": "stream",
     "text": [
      "Albania\n",
      "Greece\n",
      "Macedonia\n",
      "Serbia\n",
      "Montenegro\n",
      "Kosovo\n",
      "Andorra\n"
     ]
    }
   ],
   "source": [
    "# print names of all countries\n",
    "for child in document_tree.iterfind('country'):\n",
    "    print child.find('name').text\n"
   ]
  },
  {
   "cell_type": "code",
   "execution_count": 26,
   "metadata": {
    "collapsed": false
   },
   "outputs": [
    {
     "name": "stdout",
     "output_type": "stream",
     "text": [
      "* Albania: Tirana, Shkodër, Durrës, Vlorë, Elbasan, Korçë\n",
      "* Greece: Komotini, Kavala, Athina, Peiraias, Peristeri, Acharnes, Patra, Kozani, Kerkyra, Ioannina, Thessaloniki, Iraklio, Chania, Ermoupoli, Rhodes, Tripoli, Lamia, Chalkida, Larissa, Volos, Mytilini, Karyes\n",
      "* Macedonia: Skopje, Kumanovo\n",
      "* Serbia: Beograd, Novi Sad, Niš\n",
      "* Montenegro: Podgorica\n",
      "* Kosovo: Prishtine\n",
      "* Andorra: Andorra la Vella\n"
     ]
    }
   ],
   "source": [
    "# print names of all countries and their cities\n",
    "for element in document_tree.iterfind('country'):\n",
    "    print '* ' + element.find('name').text + ':',\n",
    "    capitals_string = ''\n",
    "    for subelement in element.getiterator('city'):\n",
    "        capitals_string += subelement.find('name').text + ', '\n",
    "    print capitals_string[:-2]"
   ]
  },
  {
   "cell_type": "markdown",
   "metadata": {},
   "source": [
    "****\n",
    "## XML exercise\n",
    "\n",
    "Using data in 'data/mondial_database.xml', the examples above, and refering to https://docs.python.org/2.7/library/xml.etree.elementtree.html, find\n",
    "\n",
    "1. 10 countries with the lowest infant mortality rates\n",
    "2. 10 cities with the largest population\n",
    "3. 10 ethnic groups with the largest overall populations (sum of best/latest estimates over all countries)\n",
    "4. name and country of a) longest river, b) largest lake and c) airport at highest elevation"
   ]
  },
  {
   "cell_type": "code",
   "execution_count": 25,
   "metadata": {
    "collapsed": true
   },
   "outputs": [],
   "source": [
    "document = ET.parse( './data/mondial_database.xml' )"
   ]
  },
  {
   "cell_type": "code",
   "execution_count": 52,
   "metadata": {
    "collapsed": false
   },
   "outputs": [
    {
     "name": "stdout",
     "output_type": "stream",
     "text": [
      "Czech Republic: 2.63\n",
      "Norway: 2.48\n",
      "Sweden: 2.6\n",
      "Monaco: 1.81\n",
      "Iceland: 3.15\n",
      "Hong Kong: 2.73\n",
      "Macao: 3.13\n",
      "Japan: 2.13\n",
      "Singapore: 2.53\n",
      "Bermuda: 2.48\n"
     ]
    }
   ],
   "source": [
    "# Number 1 \n",
    "for country in document.iterfind('country'):\n",
    "    if country.find('infant_mortality') is None:\n",
    "        pass\n",
    "    elif float(country.find('infant_mortality').text)<3.3:\n",
    "        print country.find('name').text + \": \" + country.find('infant_mortality').text\n",
    "# This seems not very useful as I had to guess what value the infant_mortality had to be less than and it's not ordered"
   ]
  },
  {
   "cell_type": "code",
   "execution_count": 261,
   "metadata": {
    "collapsed": false
   },
   "outputs": [
    {
     "data": {
      "text/plain": [
       "country\n",
       "Monaco            1.81\n",
       "Japan             2.13\n",
       "Bermuda           2.48\n",
       "Norway            2.48\n",
       "Singapore         2.53\n",
       "Sweden            2.60\n",
       "Czech Republic    2.63\n",
       "Hong Kong         2.73\n",
       "Macao             3.13\n",
       "Iceland           3.15\n",
       "Name: mortality, dtype: float64"
      ]
     },
     "execution_count": 261,
     "metadata": {},
     "output_type": "execute_result"
    }
   ],
   "source": [
    "import pandas as pd\n",
    "a = []\n",
    "b = []\n",
    "for country in document.getiterator('country'):\n",
    "    if country.find('infant_mortality') is not None:\n",
    "        a.append(country.find('name').text)\n",
    "        b.append(float(country.find('infant_mortality').text))      \n",
    "df = pd.DataFrame({'country': a , 'mortality': b })\n",
    "df.set_index('country').mortality.sort_values().head(10)\n",
    "# I think this one is more useful overall"
   ]
  },
  {
   "cell_type": "code",
   "execution_count": null,
   "metadata": {
    "collapsed": true
   },
   "outputs": [],
   "source": []
  },
  {
   "cell_type": "code",
   "execution_count": null,
   "metadata": {
    "collapsed": true
   },
   "outputs": [],
   "source": []
  },
  {
   "cell_type": "code",
   "execution_count": 262,
   "metadata": {
    "collapsed": false
   },
   "outputs": [
    {
     "data": {
      "text/plain": [
       "city\n",
       "Shanghai     22315474\n",
       "Istanbul     13710512\n",
       "Mumbai       12442373\n",
       "Moskva       11979529\n",
       "Beijing      11716620\n",
       "São Paulo    11152344\n",
       "Tianjin      11090314\n",
       "Guangzhou    11071424\n",
       "Delhi        11034555\n",
       "Shenzhen     10358381\n",
       "Name: population, dtype: float64"
      ]
     },
     "execution_count": 262,
     "metadata": {},
     "output_type": "execute_result"
    }
   ],
   "source": [
    "# Number 2\n",
    "city = []\n",
    "pop = []\n",
    "for element in document.getiterator('city'):\n",
    "    if element.find('population') is not None:\n",
    "        city.append(element.find('name').text)\n",
    "        pop.append(float(element.findall('population')[-1].text))\n",
    "df2 = pd.DataFrame({'city': city , 'population': pop })\n",
    "df2.set_index('city').population.sort_values(ascending=False).head(10)"
   ]
  },
  {
   "cell_type": "raw",
   "metadata": {},
   "source": []
  },
  {
   "cell_type": "code",
   "execution_count": null,
   "metadata": {
    "collapsed": true
   },
   "outputs": [],
   "source": []
  },
  {
   "cell_type": "code",
   "execution_count": 302,
   "metadata": {
    "collapsed": false
   },
   "outputs": [
    {
     "data": {
      "text/plain": [
       "ethnic_group\n",
       "Han Chinese    1.245059e+09\n",
       "Indo-Aryan     8.718156e+08\n",
       "European       4.948722e+08\n",
       "African        3.183251e+08\n",
       "Dravidian      3.027137e+08\n",
       "Mestizo        1.577344e+08\n",
       "Bengali        1.467769e+08\n",
       "Russian        1.318570e+08\n",
       "Japanese       1.265342e+08\n",
       "Malay          1.219936e+08\n",
       "Name: ethnic_population, dtype: float64"
      ]
     },
     "execution_count": 302,
     "metadata": {},
     "output_type": "execute_result"
    }
   ],
   "source": [
    "# Number 3\n",
    "ethnic_group = []\n",
    "ethnic_percent = []\n",
    "country = []\n",
    "population = []\n",
    "for element in document.getiterator('country'):\n",
    "    for i in range(0,len(element.findall('ethnicgroup'))):\n",
    "        country.append(element.find('name').text)\n",
    "        population.append(float(element.findall('population')[-1].text))\n",
    "for element in document.getiterator('ethnicgroup'):\n",
    "    ethnic_group.append(element.text)\n",
    "    ethnic_percent.append(float(element.attrib['percentage'])/100)\n",
    "    \n",
    "df3 = pd.DataFrame({'country':country,'ethnic_group': ethnic_group , 'ethnic_percent': ethnic_percent,'total_population':population })\n",
    "df3['ethnic_population']= df3.ethnic_percent * df3.total_population\n",
    "df3.groupby('ethnic_group').sum().ethnic_population.sort_values(ascending=False).head(10)"
   ]
  },
  {
   "cell_type": "code",
   "execution_count": null,
   "metadata": {
    "collapsed": true
   },
   "outputs": [],
   "source": []
  },
  {
   "cell_type": "code",
   "execution_count": null,
   "metadata": {
    "collapsed": true
   },
   "outputs": [],
   "source": []
  },
  {
   "cell_type": "code",
   "execution_count": 434,
   "metadata": {
    "collapsed": false
   },
   "outputs": [
    {
     "name": "stdout",
     "output_type": "stream",
     "text": [
      "    country_code  river_length river_name\n",
      "174     CO BR PE          6448   Amazonas\n",
      "Colombia Brazil Peru\n"
     ]
    }
   ],
   "source": [
    "# Number 4a\n",
    "river_name=[]\n",
    "river_length=[]\n",
    "country_code = []\n",
    "\n",
    "for element in document.getiterator('river'):\n",
    "    if element.find('length') is not None:\n",
    "        river_name.append(element.find('name').text)\n",
    "        river_length.append(float(element.find('length').text))\n",
    "        country_code.append(element.attrib['country'])\n",
    "\n",
    "df4a = pd.DataFrame({'river_name':river_name,'river_length': river_length,'country_code':country_code})\n",
    "print df4a.sort_values('river_length',ascending=False).head(1)\n",
    "\n",
    "for element in document.getiterator('country'):\n",
    "    if (element.attrib['car_code']=='CO') | (element.attrib['car_code']=='BR')| (element.attrib['car_code']=='PE'):\n",
    "        print element.find('name').text,"
   ]
  },
  {
   "cell_type": "code",
   "execution_count": 439,
   "metadata": {
    "collapsed": false
   },
   "outputs": [
    {
     "name": "stdout",
     "output_type": "stream",
     "text": [
      "      country_code  lake_area    lake_name\n",
      "54  R AZ KAZ IR TM     386400  Caspian Sea\n",
      "Russia Iran Turkmenistan Azerbaijan Kazakhstan\n"
     ]
    }
   ],
   "source": [
    "# Number 4b\n",
    "lake_name=[]\n",
    "lake_area=[]\n",
    "country_code = []\n",
    "for element in document.getiterator('lake'):\n",
    "    if element.find('area') is not None:\n",
    "        lake_name.append(element.find('name').text)\n",
    "        lake_area.append(float(element.find('area').text))\n",
    "        country_code.append(element.attrib['country'])\n",
    "df4b = pd.DataFrame({'lake_name':lake_name,'lake_area': lake_area,'country_code':country_code})\n",
    "print df4b.sort_values('lake_area',ascending=False).head(1)\n",
    "\n",
    "for element in document.getiterator('country'):\n",
    "    if (element.attrib['car_code']=='R') | (element.attrib['car_code']=='KAZ')| (element.attrib['car_code']=='IR')\\\n",
    "    | (element.attrib['car_code']=='TM')| (element.attrib['car_code']=='AZ'):\n",
    "        print element.find('name').text,"
   ]
  },
  {
   "cell_type": "code",
   "execution_count": 443,
   "metadata": {
    "collapsed": false
   },
   "outputs": [
    {
     "name": "stdout",
     "output_type": "stream",
     "text": [
      "    airport_elevation  airport_name country_code\n",
      "80               4063  El Alto Intl          BOL\n",
      "Bolivia\n"
     ]
    }
   ],
   "source": [
    "# Number 4c \n",
    "airport_name=[]\n",
    "airport_elevation=[]\n",
    "country_code = []\n",
    "for element in document.getiterator('airport'):\n",
    "    if element.find('elevation').text is not None:\n",
    "        airport_name.append(element.find('name').text)\n",
    "        airport_elevation.append(float(element.find('elevation').text))\n",
    "        country_code.append(element.attrib['country'])\n",
    "df4c = pd.DataFrame({'airport_name':airport_name,'airport_elevation': airport_elevation,'country_code':country_code})\n",
    "print df4c.sort_values('airport_elevation',ascending=False).head(1)\n",
    "\n",
    "for element in document.getiterator('country'):\n",
    "    if (element.attrib['car_code']=='BOL'):\n",
    "        print element.find('name').text,"
   ]
  }
 ],
 "metadata": {
  "kernelspec": {
   "display_name": "Python 2",
   "language": "python",
   "name": "python2"
  },
  "language_info": {
   "codemirror_mode": {
    "name": "ipython",
    "version": 2
   },
   "file_extension": ".py",
   "mimetype": "text/x-python",
   "name": "python",
   "nbconvert_exporter": "python",
   "pygments_lexer": "ipython2",
   "version": "2.7.11"
  }
 },
 "nbformat": 4,
 "nbformat_minor": 0
}
