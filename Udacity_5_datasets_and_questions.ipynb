{
 "cells": [
  {
   "cell_type": "code",
   "execution_count": 1,
   "metadata": {
    "collapsed": true
   },
   "outputs": [],
   "source": [
    "import pickle\n",
    "\n",
    "enron_data = pickle.load(open(\"../final_project/final_project_dataset.pkl\", \"r\"))"
   ]
  },
  {
   "cell_type": "markdown",
   "metadata": {},
   "source": [
    "# Number of people"
   ]
  },
  {
   "cell_type": "code",
   "execution_count": 2,
   "metadata": {
    "collapsed": false
   },
   "outputs": [
    {
     "data": {
      "text/plain": [
       "146"
      ]
     },
     "execution_count": 2,
     "metadata": {},
     "output_type": "execute_result"
    }
   ],
   "source": [
    "len(enron_data)"
   ]
  },
  {
   "cell_type": "markdown",
   "metadata": {},
   "source": [
    "# Number of features per person"
   ]
  },
  {
   "cell_type": "code",
   "execution_count": 3,
   "metadata": {
    "collapsed": false
   },
   "outputs": [
    {
     "data": {
      "text/plain": [
       "21"
      ]
     },
     "execution_count": 3,
     "metadata": {},
     "output_type": "execute_result"
    }
   ],
   "source": [
    "len(enron_data['ALLEN PHILLIP K'])"
   ]
  },
  {
   "cell_type": "markdown",
   "metadata": {},
   "source": [
    "# Number of persons of interest in enron_data"
   ]
  },
  {
   "cell_type": "code",
   "execution_count": 4,
   "metadata": {
    "collapsed": false
   },
   "outputs": [
    {
     "data": {
      "text/plain": [
       "18"
      ]
     },
     "execution_count": 4,
     "metadata": {},
     "output_type": "execute_result"
    }
   ],
   "source": [
    "poi=0\n",
    "for person in enron_data:\n",
    "    if enron_data[person]['poi'] is True:\n",
    "        poi+=1\n",
    "poi"
   ]
  },
  {
   "cell_type": "markdown",
   "metadata": {},
   "source": [
    "# Number of persons of interest total"
   ]
  },
  {
   "cell_type": "code",
   "execution_count": 5,
   "metadata": {
    "collapsed": false
   },
   "outputs": [
    {
     "data": {
      "text/plain": [
       "35"
      ]
     },
     "execution_count": 5,
     "metadata": {},
     "output_type": "execute_result"
    }
   ],
   "source": [
    "f = open(\"../final_project/poi_names.txt\", \"r\")\n",
    "len(f.readlines()[2:])"
   ]
  },
  {
   "cell_type": "markdown",
   "metadata": {},
   "source": [
    "# Dictionary of dictionaries"
   ]
  },
  {
   "cell_type": "code",
   "execution_count": 6,
   "metadata": {
    "collapsed": false
   },
   "outputs": [
    {
     "name": "stdout",
     "output_type": "stream",
     "text": [
      "James Prentice stock value = 1095040\n",
      "Wesley Colwell number of emails to POI's = 11\n",
      "Jeffrey Skilling value of stock options = 19250000\n"
     ]
    }
   ],
   "source": [
    "print \"James Prentice stock value =\", enron_data['PRENTICE JAMES']['total_stock_value']\n",
    "print \"Wesley Colwell number of emails to POI's =\", enron_data['COLWELL WESLEY']['from_this_person_to_poi']\n",
    "print \"Jeffrey Skilling value of stock options =\", enron_data['SKILLING JEFFREY K']['exercised_stock_options']\n"
   ]
  },
  {
   "cell_type": "markdown",
   "metadata": {},
   "source": [
    "# Highest Paid Executive"
   ]
  },
  {
   "cell_type": "code",
   "execution_count": 7,
   "metadata": {
    "collapsed": false
   },
   "outputs": [
    {
     "name": "stdout",
     "output_type": "stream",
     "text": [
      "Total payments for Jeffrey Skilling = 8682716\n",
      "Total payments for Andrew Fastow = 2424083\n",
      "Total payments for Kenneth Lay = 103559793\n"
     ]
    }
   ],
   "source": [
    "print \"Total payments for Jeffrey Skilling =\", enron_data['SKILLING JEFFREY K']['total_payments']\n",
    "print \"Total payments for Andrew Fastow =\", enron_data['FASTOW ANDREW S']['total_payments']\n",
    "print \"Total payments for Kenneth Lay =\", enron_data['LAY KENNETH L']['total_payments']\n"
   ]
  },
  {
   "cell_type": "markdown",
   "metadata": {},
   "source": [
    "# Number of known salaries and email addresses"
   ]
  },
  {
   "cell_type": "code",
   "execution_count": 8,
   "metadata": {
    "collapsed": false
   },
   "outputs": [
    {
     "name": "stdout",
     "output_type": "stream",
     "text": [
      "Number of known salaries = 95\n",
      "Number of known email addresses = 111\n"
     ]
    }
   ],
   "source": [
    "count=0\n",
    "for person in enron_data:\n",
    "    if enron_data[person]['salary'] != 'NaN':\n",
    "        count+=1\n",
    "print \"Number of known salaries =\", count\n",
    "\n",
    "count=0\n",
    "for person in enron_data:\n",
    "    if enron_data[person]['email_address'] != 'NaN':\n",
    "        count+=1\n",
    "print \"Number of known email addresses =\", count"
   ]
  },
  {
   "cell_type": "markdown",
   "metadata": {},
   "source": [
    "# Number and percentage of people with unknown total payments"
   ]
  },
  {
   "cell_type": "code",
   "execution_count": 9,
   "metadata": {
    "collapsed": false
   },
   "outputs": [
    {
     "name": "stdout",
     "output_type": "stream",
     "text": [
      "Number of people with unknown total payments = 21\n",
      "Percentage of people with unknown total payments = 14.3835616438 %\n"
     ]
    }
   ],
   "source": [
    "unknown=0\n",
    "for person in enron_data:\n",
    "    if enron_data[person]['total_payments'] == 'NaN':\n",
    "        unknown+=1\n",
    "print \"Number of people with unknown total payments =\", unknown\n",
    "print \"Percentage of people with unknown total payments =\", float(unknown)/len(enron_data) * 100, \"%\""
   ]
  },
  {
   "cell_type": "markdown",
   "metadata": {
    "collapsed": true
   },
   "source": [
    "# Number and percentage of persons of interest with unknown total payments"
   ]
  },
  {
   "cell_type": "code",
   "execution_count": 10,
   "metadata": {
    "collapsed": false
   },
   "outputs": [
    {
     "name": "stdout",
     "output_type": "stream",
     "text": [
      "Number of people with unknown total payments = 0\n",
      "Percentage of people with unknown total payments = 0.0 %\n"
     ]
    }
   ],
   "source": [
    "unknownpoi = 0\n",
    "for person in enron_data:\n",
    "    if (enron_data[person]['total_payments'] == 'NaN') and (enron_data[person]['poi'] is True):\n",
    "        unknownpoi+=1\n",
    "print \"Number of people with unknown total payments =\", unknownpoi\n",
    "print \"Percentage of people with unknown total payments =\", float(unknownpoi)/poi * 100, \"%\""
   ]
  },
  {
   "cell_type": "markdown",
   "metadata": {},
   "source": [
    "# New total number of people and number of unknown total payments"
   ]
  },
  {
   "cell_type": "code",
   "execution_count": 11,
   "metadata": {
    "collapsed": false
   },
   "outputs": [
    {
     "name": "stdout",
     "output_type": "stream",
     "text": [
      "New total number of people = 156\n",
      "New number of unknown total payments = 31\n"
     ]
    }
   ],
   "source": [
    "print \"New total number of people =\", len(enron_data) + 10\n",
    "print \"New number of unknown total payments =\", unknown + 10"
   ]
  },
  {
   "cell_type": "markdown",
   "metadata": {},
   "source": [
    "# New number of poi's and number with unkown total payments"
   ]
  },
  {
   "cell_type": "code",
   "execution_count": 12,
   "metadata": {
    "collapsed": false
   },
   "outputs": [
    {
     "name": "stdout",
     "output_type": "stream",
     "text": [
      "New number of persons of interest = 28\n",
      "New Number of persons of interest with unknown total stock value = 10\n"
     ]
    }
   ],
   "source": [
    "print \"New number of persons of interest =\", poi + 10\n",
    "print \"New Number of persons of interest with unknown total stock value =\", unknownpoi + 10"
   ]
  }
 ],
 "metadata": {
  "kernelspec": {
   "display_name": "Python 2",
   "language": "python",
   "name": "python2"
  },
  "language_info": {
   "codemirror_mode": {
    "name": "ipython",
    "version": 2
   },
   "file_extension": ".py",
   "mimetype": "text/x-python",
   "name": "python",
   "nbconvert_exporter": "python",
   "pygments_lexer": "ipython2",
   "version": "2.7.11"
  }
 },
 "nbformat": 4,
 "nbformat_minor": 0
}
