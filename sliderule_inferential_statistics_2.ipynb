{
 "cells": [
  {
   "cell_type": "markdown",
   "metadata": {},
   "source": [
    "\n",
    "### Examining racial discrimination in the US job market\n",
    "\n",
    "#### Background\n",
    "Racial discrimination continues to be pervasive in cultures throughout the world. Researchers examined the level of racial discrimination in the United States labor market by randomly assigning identical résumés black-sounding or white-sounding names and observing the impact on requests for interviews from employers.\n",
    "\n",
    "#### Data\n",
    "In the dataset provided, each row represents a resume. The 'race' column has two values, 'b' and 'w', indicating black-sounding and white-sounding. The column 'call' has two values, 1 and 0, indicating whether the resume received a call from employers or not.\n",
    "\n",
    "Note that the 'b' and 'w' values in race are assigned randomly to the resumes.\n",
    "\n",
    "#### Exercise\n",
    "You will perform a statistical analysis to establish whether race has a significant impact on the rate of callbacks for resumes.\n",
    "\n",
    "Answer the following questions **in this notebook below and submit to your Github account**. \n",
    "\n",
    "   1. What test is appropriate for this problem? Does CLT apply?\n",
    "   2. What are the null and alternate hypotheses?\n",
    "   3. Compute margin of error, confidence interval, and p-value.\n",
    "   4. Discuss statistical significance.\n",
    "\n",
    "You can include written notes in notebook cells using Markdown: \n",
    "   - In the control panel at the top, choose Cell > Cell Type > Markdown\n",
    "   - Markdown syntax: http://nestacms.com/docs/creating-content/markdown-cheat-sheet\n",
    "\n",
    "\n",
    "#### Resources\n",
    "+ Experiment information and data source: http://www.povertyactionlab.org/evaluation/discrimination-job-market-united-states\n",
    "+ Scipy statistical methods: http://docs.scipy.org/doc/scipy/reference/stats.html \n",
    "+ Markdown syntax: http://nestacms.com/docs/creating-content/markdown-cheat-sheet\n",
    "\n",
    "****"
   ]
  },
  {
   "cell_type": "code",
   "execution_count": 1,
   "metadata": {
    "collapsed": true
   },
   "outputs": [],
   "source": [
    "import pandas as pd\n",
    "import numpy as np\n",
    "from scipy import stats"
   ]
  },
  {
   "cell_type": "code",
   "execution_count": 2,
   "metadata": {
    "collapsed": false
   },
   "outputs": [],
   "source": [
    "data = pd.io.stata.read_stata('data/us_job_market_discrimination.dta')"
   ]
  },
  {
   "cell_type": "code",
   "execution_count": 3,
   "metadata": {
    "collapsed": false
   },
   "outputs": [
    {
     "data": {
      "text/plain": [
       "157.0"
      ]
     },
     "execution_count": 3,
     "metadata": {},
     "output_type": "execute_result"
    }
   ],
   "source": [
    "# number of callbacks for balck-sounding names\n",
    "sum(data[data.race=='b'].call)"
   ]
  },
  {
   "cell_type": "markdown",
   "metadata": {},
   "source": [
    "# Number 1\n",
    "I am going to use the difference between two sample proportions to make my hypothesis test.  The populations will be black \n",
    "sounding names versus white sounding names.  Since the values for callbacks are either 0 or 1, I can use Bernoulli distributions.  The CLT applies to the Bernoulli distribution and my sample sizes are large enough."
   ]
  },
  {
   "cell_type": "markdown",
   "metadata": {},
   "source": [
    "# Number 2\n",
    "H0: Pb-Pw is 0, There is no difference between black and white sounding names therefore there is no racial discrimination     \n",
    "\n",
    "H1: Pb-Pw is not 0, There is a difference between black and white sounding names therefore there is racial discrimination"
   ]
  },
  {
   "cell_type": "markdown",
   "metadata": {},
   "source": [
    "# Number 3"
   ]
  },
  {
   "cell_type": "code",
   "execution_count": 63,
   "metadata": {
    "collapsed": false
   },
   "outputs": [
    {
     "name": "stdout",
     "output_type": "stream",
     "text": [
      "Proportion for black sounding names = 0.064476386037\n",
      "Proportion for white sounding names = 0.0965092402464\n",
      "Difference in sample proportions = -0.0320328542094\n",
      "Proportion for null hypothesis = 0.0804928131417\n",
      "Standard deviation of the difference of the means assuming null hypothesis = 0.00779689403617\n",
      "Z-score = -4.10841215243\n",
      "P-value = 1.99194341879e-05\n",
      "\n",
      "Margin of error and confidence interval for null hypothesis\n",
      "Margin of error = 0.020083468135\n",
      "Confidence interval = -0.020083468135 to 0.020083468135\n",
      "\n",
      "Margin of error and confidence interval for rejected null hypothesis\n",
      "Margin of error = 0.0200486340375\n",
      "Confidence interval = -0.052081488247 to -0.0119842201719\n",
      "Difference in sample proportions = -0.0320328542094\n"
     ]
    }
   ],
   "source": [
    "df = data[['race','call']]\n",
    "dfb = df[data.race == 'b']\n",
    "nb = len(dfb)\n",
    "dfw = df[data.race == 'w']\n",
    "nw = len(dfw)\n",
    "\n",
    "# I need to determine the probabilty of a call back for both races\n",
    "Pb = sum(data[data.race=='b'].call) / nb\n",
    "Pw = sum(data[data.race=='w'].call) / nw\n",
    "print \"Proportion for black sounding names =\", Pb\n",
    "print \"Proportion for white sounding names =\", Pw\n",
    "print \"Difference in sample proportions =\", Pb - Pw\n",
    "\n",
    "# I now assume that Pb=Pw for my null hypothesis, I will call this new proportion P0\n",
    "P0 = (sum(data[data.race=='b'].call) + sum(data[data.race=='w'].call))/ (nb + nw)\n",
    "print \"Proportion for null hypothesis =\", P0\n",
    "\n",
    "# I now determine the standard deviation of the difference of the means assuming that Pb=Pw using P0\n",
    "StdP0 = np.sqrt(P0*(1-P0))\n",
    "Stddiff0 = np.sqrt((StdP0*StdP0/nb)+(StdP0*StdP0/nw))\n",
    "print \"Standard deviation of the difference of the means assuming null hypothesis =\", Stddiff\n",
    "z = (Pb-Pw)/Stddiff\n",
    "print \"Z-score =\", z\n",
    "print \"P-value =\", stats.norm.cdf(z)   \n",
    "\n",
    "# I will use a 99% confidence interval\n",
    "margin0 = -1 * stats.norm.ppf(.005) * Stddiff0\n",
    "print \n",
    "print \"Margin of error and confidence interval for null hypothesis\"\n",
    "print \"Margin of error =\", margin0\n",
    "print \"Confidence interval =\", -1*margin0, \"to\", margin0\n",
    "\n",
    "#I can also computer a margin of error and confidence interval for the hypothesis that the proportions are different\n",
    "StdPb = np.sqrt(Pb*(1-Pb))\n",
    "StdPw = np.sqrt(Pw*(1-Pw))\n",
    "Stddiff1 = np.sqrt((StdPb*StdPb/nb)+(StdPw*StdPw/nw))\n",
    "margin1 = -1 * stats.norm.ppf(.005) * Stddiff1\n",
    "print \n",
    "print \"Margin of error and confidence interval for rejected null hypothesis\"\n",
    "print \"Margin of error =\", margin1\n",
    "print \"Confidence interval =\", (Pb - Pw) - margin1, \"to\", (Pb - Pw) + margin1\n",
    "print \"Difference in sample proportions =\", Pb - Pw\n",
    "      "
   ]
  },
  {
   "cell_type": "markdown",
   "metadata": {},
   "source": [
    "# Number 4\n",
    "Assuming the null hypothesis, there is only a .00199% chance that the difference in proportions is as big as the one found in the samples.  This is far below the signifacance level of 5% so I reject the null hypothesis and conlude that there is a difference between the proportions for black and white sounding names and that racial discrimination exists in the realm of hiring workers."
   ]
  }
 ],
 "metadata": {
  "kernelspec": {
   "display_name": "Python 2",
   "language": "python",
   "name": "python2"
  },
  "language_info": {
   "codemirror_mode": {
    "name": "ipython",
    "version": 2
   },
   "file_extension": ".py",
   "mimetype": "text/x-python",
   "name": "python",
   "nbconvert_exporter": "python",
   "pygments_lexer": "ipython2",
   "version": "2.7.11"
  }
 },
 "nbformat": 4,
 "nbformat_minor": 0
}
