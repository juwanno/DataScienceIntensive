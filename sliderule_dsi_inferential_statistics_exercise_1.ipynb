{
 "cells": [
  {
   "cell_type": "markdown",
   "metadata": {},
   "source": [
    "## What is the true normal human body temperature? \n",
    "\n",
    "#### Background\n",
    "\n",
    "The mean normal body temperature was held to be 37$^{\\circ}$C or 98.6$^{\\circ}$F for more than 120 years since it was first conceptualized and reported by Carl Wunderlich in a famous 1868 book. In 1992, this value was revised to 36.8$^{\\circ}$C or 98.2$^{\\circ}$F. \n",
    "\n",
    "#### Exercise\n",
    "In this exercise, you will analyze a dataset of human body temperatures and employ the concepts of hypothesis testing, confidence intervals, and statistical significance.\n",
    "\n",
    "Answer the following questions **in this notebook below and submit to your Github account**. \n",
    "\n",
    "1.  Is the distribution of body temperatures normal? \n",
    "    - Remember that this is a condition for the CLT, and hence the statistical tests we are using, to apply. \n",
    "2.  Is the true population mean really 98.6 degrees F?\n",
    "    - Bring out the one sample hypothesis test! In this situation, is it approriate to apply a z-test or a t-test? How will the result be different?\n",
    "3.  At what temperature should we consider someone's temperature to be \"abnormal\"?\n",
    "    - Start by computing the margin of error and confidence interval.\n",
    "4.  Is there a significant difference between males and females in normal temperature?\n",
    "    - Set up and solve for a two sample hypothesis testing.\n",
    "\n",
    "You can include written notes in notebook cells using Markdown: \n",
    "   - In the control panel at the top, choose Cell > Cell Type > Markdown\n",
    "   - Markdown syntax: http://nestacms.com/docs/creating-content/markdown-cheat-sheet\n",
    "\n",
    "#### Resources\n",
    "\n",
    "+ Information and data sources: http://www.amstat.org/publications/jse/datasets/normtemp.txt, http://www.amstat.org/publications/jse/jse_data_archive.htm\n",
    "+ Markdown syntax: http://nestacms.com/docs/creating-content/markdown-cheat-sheet\n",
    "\n",
    "****"
   ]
  },
  {
   "cell_type": "code",
   "execution_count": 29,
   "metadata": {
    "collapsed": true
   },
   "outputs": [],
   "source": [
    "import pandas as pd\n",
    "import numpy as np\n",
    "import scipy.stats as stats\n",
    "import matplotlib.pyplot as plt \n",
    "%matplotlib inline"
   ]
  },
  {
   "cell_type": "code",
   "execution_count": 28,
   "metadata": {
    "collapsed": false
   },
   "outputs": [],
   "source": [
    "df = pd.read_csv('data/human_body_temperature.csv')"
   ]
  },
  {
   "cell_type": "code",
   "execution_count": 33,
   "metadata": {
    "collapsed": false
   },
   "outputs": [
    {
     "name": "stdout",
     "output_type": "stream",
     "text": [
      "98.2492307692 0.733183158039\n"
     ]
    },
    {
     "data": {
      "text/plain": [
       "NormaltestResult(statistic=2.7038014333192031, pvalue=0.2587479863488254)"
      ]
     },
     "execution_count": 33,
     "metadata": {},
     "output_type": "execute_result"
    },
    {
     "data": {
      "image/png": "[encoded data removed]",
      "text/plain": [
       "<matplotlib.figure.Figure at 0x8f3fab0>"
      ]
     },
     "metadata": {},
     "output_type": "display_data"
    }
   ],
   "source": [
    "# Number 1\n",
    "\n",
    "ax = plt.subplot()  \n",
    "ax.hist(df.temperature, bins = 75)\n",
    "print df.temperature.mean(),df.temperature.std()\n",
    "stats.normaltest(df.temperature)"
   ]
  },
  {
   "cell_type": "markdown",
   "metadata": {
    "collapsed": true
   },
   "source": [
    "This appears to be a normal distribution because it has a central peak and doesn't seem to have a lot of left or right bias.\n",
    "It looks relatively symmetrical around the central value.  A bell curve would fit pretty well on this. Running a normal test gives us a pvalue of about .26 which is far greater than .05 so we do not reject the null hypothesis that df.temperature is normally distributed."
   ]
  },
  {
   "cell_type": "code",
   "execution_count": null,
   "metadata": {
    "collapsed": true
   },
   "outputs": [],
   "source": []
  },
  {
   "cell_type": "code",
   "execution_count": null,
   "metadata": {
    "collapsed": true
   },
   "outputs": [],
   "source": []
  },
  {
   "cell_type": "code",
   "execution_count": 44,
   "metadata": {
    "collapsed": false
   },
   "outputs": [
    {
     "name": "stdout",
     "output_type": "stream",
     "text": [
      "z = -5.45482329236\n",
      "p value = 2.45107850706e-08\n"
     ]
    },
    {
     "data": {
      "text/plain": [
       "0.68268949213708585"
      ]
     },
     "execution_count": 44,
     "metadata": {},
     "output_type": "execute_result"
    }
   ],
   "source": [
    "# Number 2\n",
    "# z = (sample mean - mean of sampling distribution of the mean)/ standard deviation of sampling distribution of the mean\n",
    "# H0: the population mean is 98.6\n",
    "# H1: the population mean is not 98.6 \n",
    "\n",
    "# CLT says mean of sampling distribution of the mean is equal to the population mean\n",
    "pop_mean = 98.6\n",
    "sample_mean = df.temperature.mean()\n",
    "\n",
    "# Standard devation of sampling distribution of the mean = population standard devation / Sqrt(sample size)\n",
    "# My sample size is > 30 so I can estimate the population standard deviation to be equal to the sample standard deviation\n",
    "sample_std = df.temperature.std()\n",
    "n = len(df.temperature)\n",
    "std_dev_of_samp_dist= sample_std/np.sqrt(n)\n",
    "\n",
    "z = (sample_mean - pop_mean) / std_dev_of_samp_dist\n",
    "print \"z =\", z\n",
    "\n",
    "# I couldn't find a z-table with values this large so I looked up how to use scipy to get the p value\n",
    "p_value=stats.norm.cdf(z)\n",
    "print \"p value =\",p_value\n",
    "\n",
    "# I can reject the null hypothesis because my p value is less than the significant level of .05\n",
    "# The p value of 2.45107850706e-08 means there is a .00000245107850706% chance of getting that result randomly \n",
    "# Therefore I conclude that the population mean is not 98.6"
   ]
  },
  {
   "cell_type": "markdown",
   "metadata": {},
   "source": [
    "My null hypothesis was that the population mean is 98.6 degrees.  I used a z-test because the sample size is greater than 30.  I ended up rejecting the null hypothesis and concluding that the population mean is not 98.6."
   ]
  },
  {
   "cell_type": "code",
   "execution_count": null,
   "metadata": {
    "collapsed": true
   },
   "outputs": [],
   "source": []
  },
  {
   "cell_type": "code",
   "execution_count": null,
   "metadata": {
    "collapsed": true
   },
   "outputs": [],
   "source": []
  },
  {
   "cell_type": "code",
   "execution_count": 58,
   "metadata": {
    "collapsed": false
   },
   "outputs": [
    {
     "name": "stdout",
     "output_type": "stream",
     "text": [
      "-2.57582930355\n",
      "Confidence interval: 98.0846114621 to 98.4138500763\n",
      "Standard Error: 0.0643044168379\n"
     ]
    }
   ],
   "source": [
    "# Number 3 \n",
    "# I can use the std_dev_of_samp_dist from the last problem as my standard error\n",
    "# I will use a 99% confidence interval\n",
    "\n",
    "print stats.norm.ppf(.005)\n",
    "\n",
    "#I subtract 2.56 * std_dev_of_samp_dist and add 2.56 * std_dev_of_samp_dist from the sample mean to get the confidence interval\n",
    "print \"Confidence interval:\", sample_mean - 2.56 * std_dev_of_samp_dist, \"to\", sample_mean + 2.56 * std_dev_of_samp_dist\n",
    "print \"Standard Error:\", std_dev_of_samp_dist"
   ]
  },
  {
   "cell_type": "code",
   "execution_count": null,
   "metadata": {
    "collapsed": true
   },
   "outputs": [],
   "source": []
  },
  {
   "cell_type": "code",
   "execution_count": null,
   "metadata": {
    "collapsed": true
   },
   "outputs": [],
   "source": []
  },
  {
   "cell_type": "code",
   "execution_count": null,
   "metadata": {
    "collapsed": true
   },
   "outputs": [],
   "source": [
    "# Number 4\n",
    "\n",
    "\n"
   ]
  }
 ],
 "metadata": {
  "kernelspec": {
   "display_name": "Python 2",
   "language": "python",
   "name": "python2"
  },
  "language_info": {
   "codemirror_mode": {
    "name": "ipython",
    "version": 2
   },
   "file_extension": ".py",
   "mimetype": "text/x-python",
   "name": "python",
   "nbconvert_exporter": "python",
   "pygments_lexer": "ipython2",
   "version": "2.7.11"
  }
 },
 "nbformat": 4,
 "nbformat_minor": 0
}
