{
 "cells": [
  {
   "cell_type": "code",
   "execution_count": 1,
   "metadata": {
    "collapsed": false
   },
   "outputs": [
    {
     "name": "stdout",
     "output_type": "stream",
     "text": [
      "no. of Chris training emails: 7936\n",
      "no. of Sara training emails: 7884\n"
     ]
    }
   ],
   "source": [
    "import sys\n",
    "from time import time\n",
    "sys.path.append(\"/Users/juwan/ud120-projects/tools/\")\n",
    "from email_preprocess import preprocess\n",
    "\n",
    "\n",
    "### features_train and features_test are the features for the training\n",
    "### and testing datasets, respectively\n",
    "### labels_train and labels_test are the corresponding item labels\n",
    "features_train, features_test, labels_train, labels_test = preprocess()"
   ]
  },
  {
   "cell_type": "markdown",
   "metadata": {},
   "source": [
    "# Linear Full Data"
   ]
  },
  {
   "cell_type": "code",
   "execution_count": 2,
   "metadata": {
    "collapsed": false
   },
   "outputs": [
    {
     "name": "stdout",
     "output_type": "stream",
     "text": [
      "training time: 207.285 s\n",
      "predicting time: 21.229 s\n",
      "Accuracy = 98.4072810011 %\n"
     ]
    }
   ],
   "source": [
    "from sklearn.svm import SVC\n",
    "from sklearn.metrics import accuracy_score\n",
    "clf = SVC(kernel=\"linear\")\n",
    "\n",
    "t0 = time()\n",
    "clf = clf.fit(features_train,labels_train)\n",
    "print \"training time:\", round(time()-t0, 3), \"s\"\n",
    "\n",
    "t0 = time()\n",
    "pred = clf.predict(features_test)\n",
    "print \"predicting time:\", round(time()-t0, 3), \"s\"\n",
    "\n",
    "print \"Accuracy =\", accuracy_score(pred, labels_test)*100,\"%\""
   ]
  },
  {
   "cell_type": "markdown",
   "metadata": {},
   "source": [
    "# Linear Reduced Data"
   ]
  },
  {
   "cell_type": "code",
   "execution_count": 3,
   "metadata": {
    "collapsed": false
   },
   "outputs": [
    {
     "name": "stdout",
     "output_type": "stream",
     "text": [
      "training time: 0.117 s\n",
      "predicting time: 1.238 s\n",
      "Accuracy = 88.4527872582 %\n"
     ]
    }
   ],
   "source": [
    "clf = SVC(kernel=\"linear\")\n",
    "features_train2 = features_train[:len(features_train)/100] \n",
    "labels_train2 = labels_train[:len(labels_train)/100] \n",
    "\n",
    "t0 = time()\n",
    "clf = clf.fit(features_train2,labels_train2)\n",
    "print \"training time:\", round(time()-t0, 3), \"s\"\n",
    "\n",
    "t0 = time()\n",
    "pred = clf.predict(features_test)\n",
    "print \"predicting time:\", round(time()-t0, 3), \"s\"\n",
    "\n",
    "print \"Accuracy =\", accuracy_score(pred, labels_test)*100,\"%\""
   ]
  },
  {
   "cell_type": "markdown",
   "metadata": {},
   "source": [
    "# RBF Reduced Data"
   ]
  },
  {
   "cell_type": "code",
   "execution_count": 4,
   "metadata": {
    "collapsed": false
   },
   "outputs": [
    {
     "name": "stdout",
     "output_type": "stream",
     "text": [
      "training time: 0.124 s\n",
      "predicting time: 1.391 s\n",
      "Accuracy = 61.6040955631 %\n"
     ]
    }
   ],
   "source": [
    "clf = SVC(kernel=\"rbf\")\n",
    "\n",
    "t0 = time()\n",
    "clf = clf.fit(features_train2,labels_train2)\n",
    "print \"training time:\", round(time()-t0, 3), \"s\"\n",
    "\n",
    "t0 = time()\n",
    "pred = clf.predict(features_test)\n",
    "print \"predicting time:\", round(time()-t0, 3), \"s\"\n",
    "\n",
    "print \"Accuracy =\", accuracy_score(pred, labels_test)*100,\"%\""
   ]
  },
  {
   "cell_type": "markdown",
   "metadata": {},
   "source": [
    "# RBF Reduced Data C=10"
   ]
  },
  {
   "cell_type": "code",
   "execution_count": 5,
   "metadata": {
    "collapsed": false
   },
   "outputs": [
    {
     "name": "stdout",
     "output_type": "stream",
     "text": [
      "training time: 0.132 s\n",
      "predicting time: 1.372 s\n",
      "Accuracy = 61.6040955631 %\n"
     ]
    }
   ],
   "source": [
    "clf = SVC(kernel=\"rbf\", C=10)\n",
    "\n",
    "t0 = time()\n",
    "clf = clf.fit(features_train2,labels_train2)\n",
    "print \"training time:\", round(time()-t0, 3), \"s\"\n",
    "\n",
    "t0 = time()\n",
    "pred = clf.predict(features_test)\n",
    "print \"predicting time:\", round(time()-t0, 3), \"s\"\n",
    "\n",
    "print \"Accuracy =\", accuracy_score(pred, labels_test)*100,\"%\""
   ]
  },
  {
   "cell_type": "markdown",
   "metadata": {},
   "source": [
    "# RBF Reduced Data C=100"
   ]
  },
  {
   "cell_type": "code",
   "execution_count": 6,
   "metadata": {
    "collapsed": false
   },
   "outputs": [
    {
     "name": "stdout",
     "output_type": "stream",
     "text": [
      "training time: 0.132 s\n",
      "predicting time: 1.374 s\n",
      "Accuracy = 61.6040955631 %\n"
     ]
    }
   ],
   "source": [
    "clf = SVC(kernel=\"rbf\", C=100)\n",
    "\n",
    "t0 = time()\n",
    "clf = clf.fit(features_train2,labels_train2)\n",
    "print \"training time:\", round(time()-t0, 3), \"s\"\n",
    "\n",
    "t0 = time()\n",
    "pred = clf.predict(features_test)\n",
    "print \"predicting time:\", round(time()-t0, 3), \"s\"\n",
    "\n",
    "print \"Accuracy =\", accuracy_score(pred, labels_test)*100,\"%\""
   ]
  },
  {
   "cell_type": "markdown",
   "metadata": {},
   "source": [
    "# RBF Reduced Data C=1000"
   ]
  },
  {
   "cell_type": "code",
   "execution_count": 7,
   "metadata": {
    "collapsed": false
   },
   "outputs": [
    {
     "name": "stdout",
     "output_type": "stream",
     "text": [
      "training time: 0.129 s\n",
      "predicting time: 1.274 s\n",
      "Accuracy = 82.1387940842 %\n"
     ]
    }
   ],
   "source": [
    "clf = SVC(kernel=\"rbf\", C=1000)\n",
    "\n",
    "t0 = time()\n",
    "clf = clf.fit(features_train2,labels_train2)\n",
    "print \"training time:\", round(time()-t0, 3), \"s\"\n",
    "\n",
    "t0 = time()\n",
    "pred = clf.predict(features_test)\n",
    "print \"predicting time:\", round(time()-t0, 3), \"s\"\n",
    "\n",
    "print \"Accuracy =\", accuracy_score(pred, labels_test)*100,\"%\""
   ]
  },
  {
   "cell_type": "markdown",
   "metadata": {},
   "source": [
    "# RBF Reduced Data C=10000"
   ]
  },
  {
   "cell_type": "code",
   "execution_count": 8,
   "metadata": {
    "collapsed": false
   },
   "outputs": [
    {
     "name": "stdout",
     "output_type": "stream",
     "text": [
      "training time: 0.116 s\n",
      "predicting time: 1.11 s\n",
      "Accuracy = 89.2491467577 %\n"
     ]
    }
   ],
   "source": [
    "clf = SVC(kernel=\"rbf\", C=10000)\n",
    "\n",
    "t0 = time()\n",
    "clf = clf.fit(features_train2,labels_train2)\n",
    "print \"training time:\", round(time()-t0, 3), \"s\"\n",
    "\n",
    "t0 = time()\n",
    "pred = clf.predict(features_test)\n",
    "print \"predicting time:\", round(time()-t0, 3), \"s\"\n",
    "\n",
    "print \"Accuracy =\", accuracy_score(pred, labels_test)*100,\"%\""
   ]
  },
  {
   "cell_type": "markdown",
   "metadata": {},
   "source": [
    "# RBF Full Data C=10000"
   ]
  },
  {
   "cell_type": "code",
   "execution_count": 9,
   "metadata": {
    "collapsed": false
   },
   "outputs": [
    {
     "name": "stdout",
     "output_type": "stream",
     "text": [
      "training time: 135.926 s\n",
      "predicting time: 13.843 s\n",
      "Accuracy = 99.0898748578 %\n"
     ]
    }
   ],
   "source": [
    "clf = SVC(kernel=\"rbf\", C=10000)\n",
    "\n",
    "t0 = time()\n",
    "clf = clf.fit(features_train,labels_train)\n",
    "print \"training time:\", round(time()-t0, 3), \"s\"\n",
    "\n",
    "t0 = time()\n",
    "pred = clf.predict(features_test)\n",
    "print \"predicting time:\", round(time()-t0, 3), \"s\"\n",
    "\n",
    "print \"Accuracy =\", accuracy_score(pred, labels_test)*100,\"%\""
   ]
  },
  {
   "cell_type": "markdown",
   "metadata": {},
   "source": [
    "# RBF Reduced Data C=10000, Element 10, 26, and 50"
   ]
  },
  {
   "cell_type": "code",
   "execution_count": 13,
   "metadata": {
    "collapsed": false
   },
   "outputs": [
    {
     "name": "stdout",
     "output_type": "stream",
     "text": [
      "training time: 0.129 s\n",
      "predicting time: 1.068 s\n",
      "Accuracy = 89.2491467577 %\n",
      "1 0 1\n"
     ]
    }
   ],
   "source": [
    "clf = SVC(kernel=\"rbf\", C=10000)\n",
    "\n",
    "t0 = time()\n",
    "clf = clf.fit(features_train2,labels_train2)\n",
    "print \"training time:\", round(time()-t0, 3), \"s\"\n",
    "\n",
    "t0 = time()\n",
    "pred = clf.predict(features_test)\n",
    "print \"predicting time:\", round(time()-t0, 3), \"s\"\n",
    "\n",
    "print \"Accuracy =\", accuracy_score(pred, labels_test)*100,\"%\"\n",
    "\n",
    "print pred[10],pred[26],pred[50]"
   ]
  },
  {
   "cell_type": "markdown",
   "metadata": {},
   "source": [
    "# RBF Full Data C=10000, Number of Chris Emails"
   ]
  },
  {
   "cell_type": "code",
   "execution_count": 18,
   "metadata": {
    "collapsed": false
   },
   "outputs": [
    {
     "name": "stdout",
     "output_type": "stream",
     "text": [
      "training time: 134.98 s\n",
      "predicting time: 13.731 s\n",
      "Accuracy = 99.0898748578 %\n",
      "877\n"
     ]
    }
   ],
   "source": [
    "clf = SVC(kernel=\"rbf\", C=10000)\n",
    "\n",
    "t0 = time()\n",
    "clf = clf.fit(features_train,labels_train)\n",
    "print \"training time:\", round(time()-t0, 3), \"s\"\n",
    "\n",
    "t0 = time()\n",
    "pred = clf.predict(features_test)\n",
    "print \"predicting time:\", round(time()-t0, 3), \"s\"\n",
    "\n",
    "print \"Accuracy =\", accuracy_score(pred, labels_test)*100,\"%\"\n",
    "print sum(pred)"
   ]
  }
 ],
 "metadata": {
  "kernelspec": {
   "display_name": "Python 2",
   "language": "python",
   "name": "python2"
  },
  "language_info": {
   "codemirror_mode": {
    "name": "ipython",
    "version": 2
   },
   "file_extension": ".py",
   "mimetype": "text/x-python",
   "name": "python",
   "nbconvert_exporter": "python",
   "pygments_lexer": "ipython2",
   "version": "2.7.11"
  }
 },
 "nbformat": 4,
 "nbformat_minor": 0
}
